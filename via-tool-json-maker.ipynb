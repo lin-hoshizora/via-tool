{
 "cells": [
  {
   "cell_type": "code",
   "execution_count": 1,
   "id": "8e7b1295-ddf9-40fc-aa90-80a0cb9cff1b",
   "metadata": {},
   "outputs": [
    {
     "name": "stdout",
     "output_type": "stream",
     "text": [
      "PyArmNN is not installed\n"
     ]
    }
   ],
   "source": [
    "import matplotlib.pyplot as plt\n",
    "import numpy as np\n",
    "import re\n",
    "# from model_serving.client import ModelServerClient\n",
    "import json\n",
    "import glob\n",
    "import cv2\n",
    "\n",
    "from ocr import ocr, get_file_size\n",
    "\n",
    "import pickle\n",
    "\n",
    "# class FakeDockerManger:\n",
    "#     def run_if_not_yet(*args, **kwargs):\n",
    "#         pass\n",
    "#     def stop(*args, **kwargs):\n",
    "#         pass\n",
    "# class FakeLogger:\n",
    "#     def info(*args, **kwargs):\n",
    "#         pass\n",
    "#     def error(*args, **kwargs):\n",
    "#         pass\n",
    "# logger=FakeLogger()\n",
    "# docker_manager = FakeDockerManger()\n",
    "# model_server = ModelServerClient(docker_manager=docker_manager, logger=logger)\n",
    "\n",
    "img_paths = glob.glob('img/*g')\n",
    "json_path = glob.glob('via*.json')\n",
    "\n",
    "\n",
    "# img = cv2.imread(img_paths[-2])\n",
    "# texts = ocr(img)"
   ]
  },
  {
   "cell_type": "code",
   "execution_count": 2,
   "id": "a6f8cd48-6fbc-4cee-81b9-be46dad3a1b0",
   "metadata": {},
   "outputs": [],
   "source": [
    "with open('base.json','r') as f:\n",
    "    bases = json.load(f)\n",
    "# datas['_via_img_metadata']"
   ]
  },
  {
   "cell_type": "code",
   "execution_count": 3,
   "id": "5b655035-e855-4ea3-ac3e-87e41e88a5c4",
   "metadata": {},
   "outputs": [
    {
     "name": "stdout",
     "output_type": "stream",
     "text": [
      "img/20210423083225_7865897.jpg\n",
      "35\n",
      "35\n"
     ]
    }
   ],
   "source": [
    "datas= {}\n",
    "for path in img_paths:\n",
    "    print(path)\n",
    "    size = get_file_size(path)\n",
    "    filename = path[4:]\n",
    "    key = filename+str(size)\n",
    "    datas[key]={'filename':filename,'size':size,'regions':[],'file_attributes':{}}\n",
    "    img = cv2.imread(path)\n",
    "    try:\n",
    "        texts = ocr(img)\n",
    "    except:\n",
    "        texts = False\n",
    "#     print(texts)\n",
    "    if not texts:\n",
    "        continue\n",
    "    for text in texts:\n",
    "        for box in text[0:-1]:\n",
    "            b = box[3]\n",
    "            x = b[0]\n",
    "            y = b[1]\n",
    "            w = b[2]-b[0]\n",
    "            h = b[3]-b[1]\n",
    "            rect = {'name':'rect','x':int(x),'y':int(y),'width':int(w),'height':int(h)}\n",
    "            region = {'shape_attributes': rect, 'region_attributes':{'text': box[0]}}\n",
    "            datas[key]['regions'].append(region)\n",
    "    break\n",
    "    \n",
    "bases['_via_img_metadata'] = datas\n",
    "with open('save.json','w') as f:\n",
    "    json.dump(bases,f)"
   ]
  },
  {
   "cell_type": "code",
   "execution_count": null,
   "id": "6ad036bc-fb59-471b-a6df-67ec01cf5f2b",
   "metadata": {},
   "outputs": [],
   "source": []
  },
  {
   "cell_type": "code",
   "execution_count": null,
   "id": "32b664bc-ef85-462d-8661-89014a2a61ad",
   "metadata": {},
   "outputs": [],
   "source": []
  }
 ],
 "metadata": {
  "kernelspec": {
   "display_name": "Python 3",
   "language": "python",
   "name": "python3"
  },
  "language_info": {
   "codemirror_mode": {
    "name": "ipython",
    "version": 3
   },
   "file_extension": ".py",
   "mimetype": "text/x-python",
   "name": "python",
   "nbconvert_exporter": "python",
   "pygments_lexer": "ipython3",
   "version": "3.6.12"
  }
 },
 "nbformat": 4,
 "nbformat_minor": 5
}
